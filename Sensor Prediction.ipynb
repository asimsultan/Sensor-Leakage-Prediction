{
 "cells": [
  {
   "cell_type": "markdown",
   "metadata": {},
   "source": [
    "### The given project takes the dataset from measurements done on the Amont of Leak found in Kerosene and Water and to predict how much leakage happens given the specific values of Sensors (1,2)\n",
    "\n",
    "### So the input parameters for the given model would be values for sensors 1 and sensor 2 to predict the Amount of Leakage in each of the three liquids"
   ]
  },
  {
   "cell_type": "code",
   "execution_count": 1,
   "metadata": {},
   "outputs": [],
   "source": [
    "import pandas as pd\n",
    "from sklearn.model_selection import train_test_split\n",
    "from sklearn.ensemble import RandomForestRegressor\n",
    "from sklearn.metrics import r2_score\n",
    "import matplotlib.pyplot as plt"
   ]
  },
  {
   "cell_type": "code",
   "execution_count": 2,
   "metadata": {},
   "outputs": [],
   "source": [
    "data = pd.read_excel('optical_measurements.xlsx')"
   ]
  },
  {
   "cell_type": "code",
   "execution_count": 3,
   "metadata": {},
   "outputs": [
    {
     "data": {
      "text/html": [
       "<div>\n",
       "<style scoped>\n",
       "    .dataframe tbody tr th:only-of-type {\n",
       "        vertical-align: middle;\n",
       "    }\n",
       "\n",
       "    .dataframe tbody tr th {\n",
       "        vertical-align: top;\n",
       "    }\n",
       "\n",
       "    .dataframe thead th {\n",
       "        text-align: right;\n",
       "    }\n",
       "</style>\n",
       "<table border=\"1\" class=\"dataframe\">\n",
       "  <thead>\n",
       "    <tr style=\"text-align: right;\">\n",
       "      <th></th>\n",
       "      <th>SL Kerosene</th>\n",
       "      <th>SL Water</th>\n",
       "      <th>SV mm/s</th>\n",
       "      <th>SL K raw</th>\n",
       "      <th>SL W raw</th>\n",
       "      <th>SV raw</th>\n",
       "      <th>Sensor 1 [V]</th>\n",
       "      <th>Sensor 2 [V]</th>\n",
       "      <th>Collected 9</th>\n",
       "      <th>Collected 10</th>\n",
       "      <th>Collected 11</th>\n",
       "      <th>Y1</th>\n",
       "      <th>Y2</th>\n",
       "      <th>Threshold</th>\n",
       "    </tr>\n",
       "  </thead>\n",
       "  <tbody>\n",
       "    <tr>\n",
       "      <th>0</th>\n",
       "      <td>0.605783</td>\n",
       "      <td>0.361003</td>\n",
       "      <td>0.383952</td>\n",
       "      <td>1.671151</td>\n",
       "      <td>1.246116</td>\n",
       "      <td>0.723675</td>\n",
       "      <td>4.665890</td>\n",
       "      <td>4.804329</td>\n",
       "      <td>0</td>\n",
       "      <td>0</td>\n",
       "      <td>0</td>\n",
       "      <td>1</td>\n",
       "      <td>1</td>\n",
       "      <td>4.5</td>\n",
       "    </tr>\n",
       "    <tr>\n",
       "      <th>1</th>\n",
       "      <td>0.079579</td>\n",
       "      <td>0.361003</td>\n",
       "      <td>0.383952</td>\n",
       "      <td>1.671151</td>\n",
       "      <td>1.246116</td>\n",
       "      <td>0.723675</td>\n",
       "      <td>4.666546</td>\n",
       "      <td>4.804001</td>\n",
       "      <td>0</td>\n",
       "      <td>0</td>\n",
       "      <td>0</td>\n",
       "      <td>1</td>\n",
       "      <td>1</td>\n",
       "      <td>NaN</td>\n",
       "    </tr>\n",
       "    <tr>\n",
       "      <th>2</th>\n",
       "      <td>0.079579</td>\n",
       "      <td>0.361003</td>\n",
       "      <td>0.383952</td>\n",
       "      <td>1.671151</td>\n",
       "      <td>1.246116</td>\n",
       "      <td>0.723675</td>\n",
       "      <td>4.666546</td>\n",
       "      <td>4.804986</td>\n",
       "      <td>0</td>\n",
       "      <td>0</td>\n",
       "      <td>0</td>\n",
       "      <td>1</td>\n",
       "      <td>1</td>\n",
       "      <td>NaN</td>\n",
       "    </tr>\n",
       "    <tr>\n",
       "      <th>3</th>\n",
       "      <td>0.079579</td>\n",
       "      <td>0.361003</td>\n",
       "      <td>0.383952</td>\n",
       "      <td>1.671151</td>\n",
       "      <td>1.246116</td>\n",
       "      <td>0.723675</td>\n",
       "      <td>4.666218</td>\n",
       "      <td>4.803673</td>\n",
       "      <td>0</td>\n",
       "      <td>0</td>\n",
       "      <td>0</td>\n",
       "      <td>1</td>\n",
       "      <td>1</td>\n",
       "      <td>NaN</td>\n",
       "    </tr>\n",
       "    <tr>\n",
       "      <th>4</th>\n",
       "      <td>0.079579</td>\n",
       "      <td>0.361003</td>\n",
       "      <td>0.383952</td>\n",
       "      <td>1.671151</td>\n",
       "      <td>1.246116</td>\n",
       "      <td>0.723675</td>\n",
       "      <td>4.666874</td>\n",
       "      <td>4.803345</td>\n",
       "      <td>0</td>\n",
       "      <td>0</td>\n",
       "      <td>0</td>\n",
       "      <td>1</td>\n",
       "      <td>1</td>\n",
       "      <td>NaN</td>\n",
       "    </tr>\n",
       "  </tbody>\n",
       "</table>\n",
       "</div>"
      ],
      "text/plain": [
       "   SL Kerosene  SL Water   SV mm/s  SL K raw  SL W raw    SV raw  \\\n",
       "0     0.605783  0.361003  0.383952  1.671151  1.246116  0.723675   \n",
       "1     0.079579  0.361003  0.383952  1.671151  1.246116  0.723675   \n",
       "2     0.079579  0.361003  0.383952  1.671151  1.246116  0.723675   \n",
       "3     0.079579  0.361003  0.383952  1.671151  1.246116  0.723675   \n",
       "4     0.079579  0.361003  0.383952  1.671151  1.246116  0.723675   \n",
       "\n",
       "   Sensor 1 [V]  Sensor 2 [V]  Collected 9  Collected 10  Collected 11  Y1  \\\n",
       "0      4.665890      4.804329            0             0             0   1   \n",
       "1      4.666546      4.804001            0             0             0   1   \n",
       "2      4.666546      4.804986            0             0             0   1   \n",
       "3      4.666218      4.803673            0             0             0   1   \n",
       "4      4.666874      4.803345            0             0             0   1   \n",
       "\n",
       "   Y2  Threshold  \n",
       "0   1        4.5  \n",
       "1   1        NaN  \n",
       "2   1        NaN  \n",
       "3   1        NaN  \n",
       "4   1        NaN  "
      ]
     },
     "execution_count": 3,
     "metadata": {},
     "output_type": "execute_result"
    }
   ],
   "source": [
    "data.head()"
   ]
  },
  {
   "cell_type": "code",
   "execution_count": 4,
   "metadata": {},
   "outputs": [
    {
     "data": {
      "text/plain": [
       "(205001, 14)"
      ]
     },
     "execution_count": 4,
     "metadata": {},
     "output_type": "execute_result"
    }
   ],
   "source": [
    "data.shape"
   ]
  },
  {
   "cell_type": "code",
   "execution_count": 5,
   "metadata": {},
   "outputs": [
    {
     "data": {
      "text/plain": [
       "SL Kerosene          0\n",
       "SL Water             0\n",
       "SV mm/s              0\n",
       "SL K raw             0\n",
       "SL W raw             0\n",
       "SV raw               0\n",
       "Sensor 1 [V]         0\n",
       "Sensor 2 [V]         0\n",
       "Collected 9          0\n",
       "Collected 10         0\n",
       "Collected 11         0\n",
       "Y1                   0\n",
       "Y2                   0\n",
       "Threshold       205000\n",
       "dtype: int64"
      ]
     },
     "execution_count": 5,
     "metadata": {},
     "output_type": "execute_result"
    }
   ],
   "source": [
    "data.isnull().sum()"
   ]
  },
  {
   "cell_type": "code",
   "execution_count": 6,
   "metadata": {},
   "outputs": [],
   "source": [
    "data.drop([data.columns[-1]], axis=1, inplace = True)"
   ]
  },
  {
   "cell_type": "code",
   "execution_count": 7,
   "metadata": {},
   "outputs": [
    {
     "data": {
      "text/html": [
       "<div>\n",
       "<style scoped>\n",
       "    .dataframe tbody tr th:only-of-type {\n",
       "        vertical-align: middle;\n",
       "    }\n",
       "\n",
       "    .dataframe tbody tr th {\n",
       "        vertical-align: top;\n",
       "    }\n",
       "\n",
       "    .dataframe thead th {\n",
       "        text-align: right;\n",
       "    }\n",
       "</style>\n",
       "<table border=\"1\" class=\"dataframe\">\n",
       "  <thead>\n",
       "    <tr style=\"text-align: right;\">\n",
       "      <th></th>\n",
       "      <th>SL Kerosene</th>\n",
       "      <th>SL Water</th>\n",
       "      <th>SV mm/s</th>\n",
       "      <th>SL K raw</th>\n",
       "      <th>SL W raw</th>\n",
       "      <th>SV raw</th>\n",
       "      <th>Sensor 1 [V]</th>\n",
       "      <th>Sensor 2 [V]</th>\n",
       "      <th>Collected 9</th>\n",
       "      <th>Collected 10</th>\n",
       "      <th>Collected 11</th>\n",
       "      <th>Y1</th>\n",
       "      <th>Y2</th>\n",
       "    </tr>\n",
       "  </thead>\n",
       "  <tbody>\n",
       "    <tr>\n",
       "      <th>0</th>\n",
       "      <td>0.605783</td>\n",
       "      <td>0.361003</td>\n",
       "      <td>0.383952</td>\n",
       "      <td>1.671151</td>\n",
       "      <td>1.246116</td>\n",
       "      <td>0.723675</td>\n",
       "      <td>4.665890</td>\n",
       "      <td>4.804329</td>\n",
       "      <td>0</td>\n",
       "      <td>0</td>\n",
       "      <td>0</td>\n",
       "      <td>1</td>\n",
       "      <td>1</td>\n",
       "    </tr>\n",
       "    <tr>\n",
       "      <th>1</th>\n",
       "      <td>0.079579</td>\n",
       "      <td>0.361003</td>\n",
       "      <td>0.383952</td>\n",
       "      <td>1.671151</td>\n",
       "      <td>1.246116</td>\n",
       "      <td>0.723675</td>\n",
       "      <td>4.666546</td>\n",
       "      <td>4.804001</td>\n",
       "      <td>0</td>\n",
       "      <td>0</td>\n",
       "      <td>0</td>\n",
       "      <td>1</td>\n",
       "      <td>1</td>\n",
       "    </tr>\n",
       "    <tr>\n",
       "      <th>2</th>\n",
       "      <td>0.079579</td>\n",
       "      <td>0.361003</td>\n",
       "      <td>0.383952</td>\n",
       "      <td>1.671151</td>\n",
       "      <td>1.246116</td>\n",
       "      <td>0.723675</td>\n",
       "      <td>4.666546</td>\n",
       "      <td>4.804986</td>\n",
       "      <td>0</td>\n",
       "      <td>0</td>\n",
       "      <td>0</td>\n",
       "      <td>1</td>\n",
       "      <td>1</td>\n",
       "    </tr>\n",
       "    <tr>\n",
       "      <th>3</th>\n",
       "      <td>0.079579</td>\n",
       "      <td>0.361003</td>\n",
       "      <td>0.383952</td>\n",
       "      <td>1.671151</td>\n",
       "      <td>1.246116</td>\n",
       "      <td>0.723675</td>\n",
       "      <td>4.666218</td>\n",
       "      <td>4.803673</td>\n",
       "      <td>0</td>\n",
       "      <td>0</td>\n",
       "      <td>0</td>\n",
       "      <td>1</td>\n",
       "      <td>1</td>\n",
       "    </tr>\n",
       "    <tr>\n",
       "      <th>4</th>\n",
       "      <td>0.079579</td>\n",
       "      <td>0.361003</td>\n",
       "      <td>0.383952</td>\n",
       "      <td>1.671151</td>\n",
       "      <td>1.246116</td>\n",
       "      <td>0.723675</td>\n",
       "      <td>4.666874</td>\n",
       "      <td>4.803345</td>\n",
       "      <td>0</td>\n",
       "      <td>0</td>\n",
       "      <td>0</td>\n",
       "      <td>1</td>\n",
       "      <td>1</td>\n",
       "    </tr>\n",
       "  </tbody>\n",
       "</table>\n",
       "</div>"
      ],
      "text/plain": [
       "   SL Kerosene  SL Water   SV mm/s  SL K raw  SL W raw    SV raw  \\\n",
       "0     0.605783  0.361003  0.383952  1.671151  1.246116  0.723675   \n",
       "1     0.079579  0.361003  0.383952  1.671151  1.246116  0.723675   \n",
       "2     0.079579  0.361003  0.383952  1.671151  1.246116  0.723675   \n",
       "3     0.079579  0.361003  0.383952  1.671151  1.246116  0.723675   \n",
       "4     0.079579  0.361003  0.383952  1.671151  1.246116  0.723675   \n",
       "\n",
       "   Sensor 1 [V]  Sensor 2 [V]  Collected 9  Collected 10  Collected 11  Y1  Y2  \n",
       "0      4.665890      4.804329            0             0             0   1   1  \n",
       "1      4.666546      4.804001            0             0             0   1   1  \n",
       "2      4.666546      4.804986            0             0             0   1   1  \n",
       "3      4.666218      4.803673            0             0             0   1   1  \n",
       "4      4.666874      4.803345            0             0             0   1   1  "
      ]
     },
     "execution_count": 7,
     "metadata": {},
     "output_type": "execute_result"
    }
   ],
   "source": [
    "data.head()"
   ]
  },
  {
   "cell_type": "markdown",
   "metadata": {},
   "source": [
    "### Finding the Correlation between features"
   ]
  },
  {
   "cell_type": "code",
   "execution_count": 8,
   "metadata": {},
   "outputs": [
    {
     "data": {
      "text/plain": [
       "<matplotlib.axes._subplots.AxesSubplot at 0x1b048f47748>"
      ]
     },
     "execution_count": 8,
     "metadata": {},
     "output_type": "execute_result"
    },
    {
     "data": {
      "image/png": "[encoded data removed]",
      "text/plain": [
       "<Figure size 864x720 with 2 Axes>"
      ]
     },
     "metadata": {
      "needs_background": "light"
     },
     "output_type": "display_data"
    }
   ],
   "source": [
    "import seaborn as sns\n",
    "fig = plt.figure(figsize = (12,10))\n",
    "sns.heatmap(data.corr())"
   ]
  },
  {
   "cell_type": "markdown",
   "metadata": {},
   "source": [
    "### Since we can see the columns Collected 9, collected 10 and collected 11 has no impact so we can simply drop them\n",
    "\n",
    "### Also the columns, y1 and y2 are highly correlated with Sensors so we can remove the y1,y2"
   ]
  },
  {
   "cell_type": "code",
   "execution_count": 9,
   "metadata": {},
   "outputs": [],
   "source": [
    "data.drop(['Collected 9','Collected 10', 'Collected 11', 'Y1', 'Y2'], axis=1, inplace=True)"
   ]
  },
  {
   "cell_type": "code",
   "execution_count": 10,
   "metadata": {},
   "outputs": [],
   "source": [
    "X = data.drop(['SL Kerosene', 'SL Water', 'SV mm/s'], axis=1)\n",
    "y = data[['SL Kerosene', 'SL Water', 'SV mm/s']]"
   ]
  },
  {
   "cell_type": "code",
   "execution_count": 11,
   "metadata": {},
   "outputs": [
    {
     "data": {
      "text/plain": [
       "Index(['SL Kerosene', 'SL Water', 'SV mm/s', 'SL K raw', 'SL W raw', 'SV raw',\n",
       "       'Sensor 1 [V]', 'Sensor 2 [V]'],\n",
       "      dtype='object')"
      ]
     },
     "execution_count": 11,
     "metadata": {},
     "output_type": "execute_result"
    }
   ],
   "source": [
    "data.columns"
   ]
  },
  {
   "cell_type": "markdown",
   "metadata": {},
   "source": [
    "### Finding the Outliers in the given dataset"
   ]
  },
  {
   "cell_type": "code",
   "execution_count": 12,
   "metadata": {},
   "outputs": [
    {
     "data": {
      "text/plain": [
       "<matplotlib.axes._subplots.AxesSubplot at 0x1b04acab2b0>"
      ]
     },
     "execution_count": 12,
     "metadata": {},
     "output_type": "execute_result"
    },
    {
     "data": {
      "image/png": "[encoded data removed]",
      "text/plain": [
       "<Figure size 432x288 with 1 Axes>"
      ]
     },
     "metadata": {
      "needs_background": "light"
     },
     "output_type": "display_data"
    }
   ],
   "source": [
    "data[['SL Kerosene', 'SL Water', 'SV mm/s']].boxplot()"
   ]
  },
  {
   "cell_type": "markdown",
   "metadata": {},
   "source": [
    "### There are frquent outliers in the dataset that can effect the accuracy of the model so we shall remove them prior to proceeding further"
   ]
  },
  {
   "cell_type": "markdown",
   "metadata": {},
   "source": [
    "### Remove Outliers"
   ]
  },
  {
   "cell_type": "code",
   "execution_count": 13,
   "metadata": {},
   "outputs": [],
   "source": [
    "def remove_outlier(dataframe,features):\n",
    "    for f in features:\n",
    "        q1 = dataframe[f].quantile(0.25)\n",
    "        q3 = dataframe[f].quantile(0.75)\n",
    "        iqr = q3 - q1\n",
    "        lower_limit = q1 - 1.5*iqr\n",
    "        upper_limit = q3 + 1.5 * iqr\n",
    "        outliers = dataframe[(dataframe[f] < lower_limit) | (dataframe[f] > upper_limit)].shape[0]\n",
    "        dataframe = dataframe[(dataframe[f] > lower_limit) & (dataframe[f] < upper_limit)]\n",
    "    return dataframe"
   ]
  },
  {
   "cell_type": "code",
   "execution_count": 14,
   "metadata": {},
   "outputs": [],
   "source": [
    "data = remove_outlier(data, features = ['SL Kerosene', 'SL Water', 'SV mm/s'])"
   ]
  },
  {
   "cell_type": "code",
   "execution_count": 15,
   "metadata": {},
   "outputs": [
    {
     "data": {
      "text/plain": [
       "<matplotlib.axes._subplots.AxesSubplot at 0x1b04a5a1470>"
      ]
     },
     "execution_count": 15,
     "metadata": {},
     "output_type": "execute_result"
    },
    {
     "data": {
      "image/png": "[encoded data removed]",
      "text/plain": [
       "<Figure size 432x288 with 1 Axes>"
      ]
     },
     "metadata": {
      "needs_background": "light"
     },
     "output_type": "display_data"
    }
   ],
   "source": [
    "data[['SL Kerosene', 'SL Water', 'SV mm/s']].boxplot()"
   ]
  },
  {
   "cell_type": "code",
   "execution_count": 16,
   "metadata": {},
   "outputs": [],
   "source": [
    "X_train, X_test, y_train, y_test = train_test_split(X,y, test_size = 0.2)"
   ]
  },
  {
   "cell_type": "code",
   "execution_count": 17,
   "metadata": {},
   "outputs": [],
   "source": [
    "model = RandomForestRegressor()"
   ]
  },
  {
   "cell_type": "code",
   "execution_count": 18,
   "metadata": {},
   "outputs": [
    {
     "data": {
      "text/plain": [
       "RandomForestRegressor(bootstrap=True, ccp_alpha=0.0, criterion='mse',\n",
       "                      max_depth=None, max_features='auto', max_leaf_nodes=None,\n",
       "                      max_samples=None, min_impurity_decrease=0.0,\n",
       "                      min_impurity_split=None, min_samples_leaf=1,\n",
       "                      min_samples_split=2, min_weight_fraction_leaf=0.0,\n",
       "                      n_estimators=100, n_jobs=None, oob_score=False,\n",
       "                      random_state=None, verbose=0, warm_start=False)"
      ]
     },
     "execution_count": 18,
     "metadata": {},
     "output_type": "execute_result"
    }
   ],
   "source": [
    "model.fit(X_train, y_train)"
   ]
  },
  {
   "cell_type": "code",
   "execution_count": 19,
   "metadata": {},
   "outputs": [],
   "source": [
    "preds = model.predict(X_test)"
   ]
  },
  {
   "cell_type": "code",
   "execution_count": 20,
   "metadata": {},
   "outputs": [],
   "source": [
    "score = r2_score(y_test,preds)"
   ]
  },
  {
   "cell_type": "code",
   "execution_count": 21,
   "metadata": {},
   "outputs": [
    {
     "name": "stdout",
     "output_type": "stream",
     "text": [
      "Accuracy score the given model 0.9994953114493548\n"
     ]
    }
   ],
   "source": [
    "print('Accuracy score the given model {}'.format(score))"
   ]
  }
 ],
 "metadata": {
  "kernelspec": {
   "display_name": "Python 3",
   "language": "python",
   "name": "python3"
  },
  "language_info": {
   "codemirror_mode": {
    "name": "ipython",
    "version": 3
   },
   "file_extension": ".py",
   "mimetype": "text/x-python",
   "name": "python",
   "nbconvert_exporter": "python",
   "pygments_lexer": "ipython3",
   "version": "3.7.0"
  }
 },
 "nbformat": 4,
 "nbformat_minor": 4
}
